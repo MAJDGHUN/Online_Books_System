{
 "cells": [
  {
   "cell_type": "code",
   "execution_count": 26,
   "metadata": {},
   "outputs": [],
   "source": [
    "import pandas as pd\n",
    "import numpy as np\n",
    "import matplotlib.pyplot as plt\n",
    "from bs4 import BeautifulSoup\n",
    "import requests"
   ]
  },
  {
   "cell_type": "code",
   "execution_count": 27,
   "metadata": {},
   "outputs": [],
   "source": [
    "val = input(\"Enter book name or keywoord: \") \n",
    "woordsList = val.split()"
   ]
  },
  {
   "cell_type": "code",
   "execution_count": 28,
   "metadata": {},
   "outputs": [],
   "source": [
    "num_pages = 1\n",
    "\n",
    "def get_data(num_pages):  \n",
    "    \n",
    "\n",
    "    r = requests.get('https://www.biblio.com/search.php?stage=1&result_type=works&keyisbn='+str(woordsList)+'&page='+str(no_pages)+'&sid=1506537980')\n",
    "    content = r.content\n",
    "    soup = BeautifulSoup(content)\n",
    "    \n",
    "\n",
    "    alls = []\n",
    "    for d in soup.findAll('div', attrs={'itemtype':'http://schema.org/Book'}):\n",
    "        \n",
    "        n1 = d.find('div', attrs={'class':'basic-info'})\n",
    "        n2 = n1.find('header', attrs={'class':'item-title'})\n",
    "        n3 = n2.find('h2', attrs={'class':'title'})\n",
    "        \n",
    "        author = d.find_all('h3', attrs={'class':'author'})\n",
    "        isbn = n1.find('dl', attrs={'class':'fact-list'})\n",
    "        isbn2 = isbn.find_all('dd')\n",
    "        \n",
    "        Price = d.find('span', attrs={'class':'item-price'})\n",
    "        seller = d.find('a', attrs={'class':'bd-seller-name'})\n",
    "        Rating = d.find('div', attrs={'class':'speech'})\n",
    "\n",
    "        all1=[]\n",
    "\n",
    "        if n3 is not None:\n",
    "            \n",
    "            all1.append(n3.text)\n",
    "        else:\n",
    "            all1.append(\"Null\")\n",
    "\n",
    "        if author is not None:\n",
    "            \n",
    "            all1.append(author[0].text)\n",
    "        else:    \n",
    "            all1.append('Null')\n",
    "\n",
    "        if len(isbn2[2].text) == 13 or len(isbn2[2].text) == 10 :\n",
    "            \n",
    "            all1.append(isbn2[2].text)\n",
    "\n",
    "\n",
    "        elif len(isbn2[3].text) == 13 or len(isbn2[3].text) == 10 :\n",
    "            \n",
    "            all1.append(isbn2[3].text)\n",
    "\n",
    "        else:\n",
    "            all1.append('Null')\n",
    "\n",
    "        if Price is not None:\n",
    "            \n",
    "            all1.append(Price.text)\n",
    "        else:\n",
    "            all1.append('Null')     \n",
    "\n",
    "        if seller is not None:\n",
    "            \n",
    "            all1.append(seller.text)\n",
    "        else:\n",
    "            all1.append('Null')\n",
    "\n",
    "        if Rating is not None:\n",
    "            \n",
    "            all1.append(Rating.text)\n",
    "        else:\n",
    "            all1.append('Null')\n",
    "        alls.append(all1)    \n",
    "    return alls"
   ]
  },
  {
   "cell_type": "code",
   "execution_count": 29,
   "metadata": {},
   "outputs": [],
   "source": [
    "results = []\n",
    "for i in range(1, num_pages+3):\n",
    "    results.append(get_data(i))\n",
    "flatten = lambda l: [item for sublist in l for item in sublist]\n",
    "df = pd.DataFrame(flatten(results),columns=['Book Name','Author','ISBN ','Price', 'Seller','Rating'])\n",
    "df['Rating'] = df['Rating'].str.replace('This seller has earned a', '')\n",
    "df['Rating'] = df['Rating'].str.replace('rating from Biblio customers.', '')\n",
    "df['Author'] = df['Author'].str.replace('by ', '')\n",
    "df.to_csv('Biblio.com_BOOKS.csv', index=False, encoding='utf-8')"
   ]
  },
  {
   "cell_type": "code",
   "execution_count": 30,
   "metadata": {},
   "outputs": [
    {
     "output_type": "execute_result",
     "data": {
      "text/plain": "                                            Book Name  \\\n0       Theodore Roosevelt; A Tribute By William Hard   \n1       Theodore Roosevelt; A Tribute By William Hard   \n2                                           Hard Rain   \n3         Hard Truth (signed by author)(1st printing)   \n4                                       THE HARD HATS   \n5                     Hard Times (Everyman's Library)   \n6                                          Hard Times   \n7                                        The Hard Men   \n8                                  The Hard Detective   \n9                                          Hard Truth   \n10     Hard Scrabble: Observations on a Patch of Land   \n11                           CTHULHU IS HARD TO SPELL   \n12  The Confession -by Domenic Stansberry -a Signe...   \n13                                        Hard Loving   \n14                               Hammond's Hard Lines   \n15                                          Hard Rain   \n16                                  Cry Hard Cry Fast   \n17                                 The Dead Ride Hard   \n18                                     Hard Hard City   \n19                                      THE HARD WAY.   \n20      Theodore Roosevelt; A Tribute By William Hard   \n21      Theodore Roosevelt; A Tribute By William Hard   \n22                                          Hard Rain   \n23                                      THE HARD HATS   \n24        Hard Truth (signed by author)(1st printing)   \n25                    Hard Times (Everyman's Library)   \n26                                         Hard Times   \n27                                 The Hard Detective   \n28                                       The Hard Men   \n29                                         Hard Truth   \n30     Hard Scrabble: Observations on a Patch of Land   \n31                           CTHULHU IS HARD TO SPELL   \n32  The Confession -by Domenic Stansberry -a Signe...   \n33                                          Hard Rain   \n34                                        Hard Loving   \n35                                  Cry Hard Cry Fast   \n36                               Hammond's Hard Lines   \n37                                     Hard Hard City   \n38                                 The Dead Ride Hard   \n39                                      THE HARD WAY.   \n40      Theodore Roosevelt; A Tribute By William Hard   \n41      Theodore Roosevelt; A Tribute By William Hard   \n42                                          Hard Rain   \n43                                      THE HARD HATS   \n44        Hard Truth (signed by author)(1st printing)   \n45                    Hard Times (Everyman's Library)   \n46                                         Hard Times   \n47                                 The Hard Detective   \n48                                       The Hard Men   \n49                                         Hard Truth   \n50     Hard Scrabble: Observations on a Patch of Land   \n51                           CTHULHU IS HARD TO SPELL   \n52  The Confession -by Domenic Stansberry -a Signe...   \n53                                          Hard Rain   \n54                                  Cry Hard Cry Fast   \n55                                        Hard Loving   \n56                               Hammond's Hard Lines   \n57                                     Hard Hard City   \n58                                 The Dead Ride Hard   \n59                                      THE HARD WAY.   \n\n                                               Author          ISBN    Price  \\\n0                                       Hard, William           Null  €10.77   \n1                                       Hard, William           Null  €12.92   \n2                                       Eisler, Barry           Null  €12.92   \n3                                         Nevada Barr  9780399152412   €8.61   \n4                                      H . M . NEWELL           Null  €11.37   \n5                                    Dickens, Charles  9780460002929  €11.37   \n6                                     Charles Dickens           Null  €12.48   \n7                                         Olsen, T.V.           Null  €10.84   \n8                                   Keating, H. R. F.  9780333766194  €11.29   \n9                                        Barr, Nevada  9780399152412  €12.06   \n10                                       Graves, John  9780394483863  €16.37   \n11                    Brandon Perlow, Paul J Mendoza,     1644675935  €10.06   \n12  Stansberry, Domenic / Hard Case Mystery / Crim...  9780843953541   €8.57   \n13                                      Piercy, Marge           Null  €12.92   \n14                                   Cuppord, Skelton           Null  €11.35   \n15                         van de Wetering, Janwillem           Null  €10.34   \n16                                  John D. Macdonald           Null   €6.89   \n17                                Vance, Louis Joseph           Null  €12.92   \n18                                       Fusilli, Jim  9780399152177  €11.20   \n19                                        Child, Lee.     0440241030  €11.63   \n20                                      Hard, William           Null  €10.77   \n21                                      Hard, William           Null  €12.92   \n22                                      Eisler, Barry           Null  €12.92   \n23                                     H . M . NEWELL           Null  €11.37   \n24                                        Nevada Barr  9780399152412   €8.61   \n25                                   Dickens, Charles  9780460002929  €11.37   \n26                                    Charles Dickens           Null  €12.48   \n27                                  Keating, H. R. F.  9780333766194  €11.29   \n28                                        Olsen, T.V.           Null  €10.84   \n29                                       Barr, Nevada  9780399152412  €12.06   \n30                                       Graves, John  9780394483863  €16.37   \n31                    Brandon Perlow, Paul J Mendoza,     1644675935  €10.06   \n32  Stansberry, Domenic / Hard Case Mystery / Crim...  9780843953541   €8.57   \n33                         van de Wetering, Janwillem           Null  €10.34   \n34                                      Piercy, Marge           Null  €12.92   \n35                                  John D. Macdonald           Null   €6.89   \n36                                   Cuppord, Skelton           Null  €11.35   \n37                                       Fusilli, Jim  9780399152177  €11.20   \n38                                Vance, Louis Joseph           Null  €12.92   \n39                                        Child, Lee.     0440241030  €11.63   \n40                                      Hard, William           Null  €10.77   \n41                                      Hard, William           Null  €12.92   \n42                                      Eisler, Barry           Null  €12.92   \n43                                     H . M . NEWELL           Null  €11.37   \n44                                        Nevada Barr  9780399152412   €8.61   \n45                                   Dickens, Charles  9780460002929  €11.37   \n46                                    Charles Dickens           Null  €12.48   \n47                                  Keating, H. R. F.  9780333766194  €11.29   \n48                                        Olsen, T.V.           Null  €10.84   \n49                                       Barr, Nevada  9780399152412  €12.06   \n50                                       Graves, John  9780394483863  €16.37   \n51                    Brandon Perlow, Paul J Mendoza,     1644675935  €10.06   \n52  Stansberry, Domenic / Hard Case Mystery / Crim...  9780843953541   €8.57   \n53                         van de Wetering, Janwillem           Null  €10.34   \n54                                  John D. Macdonald           Null   €6.89   \n55                                      Piercy, Marge           Null  €12.92   \n56                                   Cuppord, Skelton           Null  €11.35   \n57                                       Fusilli, Jim  9780399152177  €11.20   \n58                                Vance, Louis Joseph           Null  €12.92   \n59                                        Child, Lee.     0440241030  €11.63   \n\n                                           Seller          Rating  \n0                      Austin's Antiquarian Books   5 of 5 Stars   \n1                      Austin's Antiquarian Books   5 of 5 Stars   \n2                              Evening Star Books   5 of 5 Stars   \n3                            Ironwood Hills Books   5 of 5 Stars   \n4                                 NOVELLA'S BOOKS   5 of 5 Stars   \n5                                Once Upon A Time   5 of 5 Stars   \n6                                    AJ Scruffles   4 of 5 Stars   \n7                                     Acorn Books   5 of 5 Stars   \n8                    Weysprings Books, IOBA, PBFA   5 of 5 Stars   \n9                               Books Again, Inc.   5 of 5 Stars   \n10                     Downtown Brown Books, ABAA   5 of 5 Stars   \n11                                    Heisenbooks   5 of 5 Stars   \n12                                 Leonard Shoup    5 of 5 Stars   \n13  S. Howlett-West Books (member of ABAA & ILAB)   5 of 5 Stars   \n14                      Save The Last Book For Me   5 of 5 Stars   \n15          Tree Frog Fine Books and Graphic Arts   5 of 5 Stars   \n16                                   Harpo Speaks   5 of 5 Stars   \n17             Yesterday's Muse, ABAA, ILAB, IOBA   5 of 5 Stars   \n18                                    Garys Books   5 of 5 Stars   \n19                            Bookfever.com, IOBA   5 of 5 Stars   \n20                     Austin's Antiquarian Books   5 of 5 Stars   \n21                     Austin's Antiquarian Books   5 of 5 Stars   \n22                             Evening Star Books   5 of 5 Stars   \n23                                NOVELLA'S BOOKS   5 of 5 Stars   \n24                           Ironwood Hills Books   5 of 5 Stars   \n25                               Once Upon A Time   5 of 5 Stars   \n26                                   AJ Scruffles   4 of 5 Stars   \n27                   Weysprings Books, IOBA, PBFA   5 of 5 Stars   \n28                                    Acorn Books   5 of 5 Stars   \n29                              Books Again, Inc.   5 of 5 Stars   \n30                     Downtown Brown Books, ABAA   5 of 5 Stars   \n31                                    Heisenbooks   5 of 5 Stars   \n32                                 Leonard Shoup    5 of 5 Stars   \n33          Tree Frog Fine Books and Graphic Arts   5 of 5 Stars   \n34  S. Howlett-West Books (member of ABAA & ILAB)   5 of 5 Stars   \n35                                   Harpo Speaks   5 of 5 Stars   \n36                      Save The Last Book For Me   5 of 5 Stars   \n37                                    Garys Books   5 of 5 Stars   \n38             Yesterday's Muse, ABAA, ILAB, IOBA   5 of 5 Stars   \n39                            Bookfever.com, IOBA   5 of 5 Stars   \n40                     Austin's Antiquarian Books   5 of 5 Stars   \n41                     Austin's Antiquarian Books   5 of 5 Stars   \n42                             Evening Star Books   5 of 5 Stars   \n43                                NOVELLA'S BOOKS   5 of 5 Stars   \n44                           Ironwood Hills Books   5 of 5 Stars   \n45                               Once Upon A Time   5 of 5 Stars   \n46                                   AJ Scruffles   4 of 5 Stars   \n47                   Weysprings Books, IOBA, PBFA   5 of 5 Stars   \n48                                    Acorn Books   5 of 5 Stars   \n49                              Books Again, Inc.   5 of 5 Stars   \n50                     Downtown Brown Books, ABAA   5 of 5 Stars   \n51                                    Heisenbooks   5 of 5 Stars   \n52                                 Leonard Shoup    5 of 5 Stars   \n53          Tree Frog Fine Books and Graphic Arts   5 of 5 Stars   \n54                                   Harpo Speaks   5 of 5 Stars   \n55  S. Howlett-West Books (member of ABAA & ILAB)   5 of 5 Stars   \n56                      Save The Last Book For Me   5 of 5 Stars   \n57                                    Garys Books   5 of 5 Stars   \n58             Yesterday's Muse, ABAA, ILAB, IOBA   5 of 5 Stars   \n59                            Bookfever.com, IOBA   5 of 5 Stars   ",
      "text/html": "<div>\n<style scoped>\n    .dataframe tbody tr th:only-of-type {\n        vertical-align: middle;\n    }\n\n    .dataframe tbody tr th {\n        vertical-align: top;\n    }\n\n    .dataframe thead th {\n        text-align: right;\n    }\n</style>\n<table border=\"1\" class=\"dataframe\">\n  <thead>\n    <tr style=\"text-align: right;\">\n      <th></th>\n      <th>Book Name</th>\n      <th>Author</th>\n      <th>ISBN</th>\n      <th>Price</th>\n      <th>Seller</th>\n      <th>Rating</th>\n    </tr>\n  </thead>\n  <tbody>\n    <tr>\n      <th>0</th>\n      <td>Theodore Roosevelt; A Tribute By William Hard</td>\n      <td>Hard, William</td>\n      <td>Null</td>\n      <td>€10.77</td>\n      <td>Austin's Antiquarian Books</td>\n      <td>5 of 5 Stars</td>\n    </tr>\n    <tr>\n      <th>1</th>\n      <td>Theodore Roosevelt; A Tribute By William Hard</td>\n      <td>Hard, William</td>\n      <td>Null</td>\n      <td>€12.92</td>\n      <td>Austin's Antiquarian Books</td>\n      <td>5 of 5 Stars</td>\n    </tr>\n    <tr>\n      <th>2</th>\n      <td>Hard Rain</td>\n      <td>Eisler, Barry</td>\n      <td>Null</td>\n      <td>€12.92</td>\n      <td>Evening Star Books</td>\n      <td>5 of 5 Stars</td>\n    </tr>\n    <tr>\n      <th>3</th>\n      <td>Hard Truth (signed by author)(1st printing)</td>\n      <td>Nevada Barr</td>\n      <td>9780399152412</td>\n      <td>€8.61</td>\n      <td>Ironwood Hills Books</td>\n      <td>5 of 5 Stars</td>\n    </tr>\n    <tr>\n      <th>4</th>\n      <td>THE HARD HATS</td>\n      <td>H . M . NEWELL</td>\n      <td>Null</td>\n      <td>€11.37</td>\n      <td>NOVELLA'S BOOKS</td>\n      <td>5 of 5 Stars</td>\n    </tr>\n    <tr>\n      <th>5</th>\n      <td>Hard Times (Everyman's Library)</td>\n      <td>Dickens, Charles</td>\n      <td>9780460002929</td>\n      <td>€11.37</td>\n      <td>Once Upon A Time</td>\n      <td>5 of 5 Stars</td>\n    </tr>\n    <tr>\n      <th>6</th>\n      <td>Hard Times</td>\n      <td>Charles Dickens</td>\n      <td>Null</td>\n      <td>€12.48</td>\n      <td>AJ Scruffles</td>\n      <td>4 of 5 Stars</td>\n    </tr>\n    <tr>\n      <th>7</th>\n      <td>The Hard Men</td>\n      <td>Olsen, T.V.</td>\n      <td>Null</td>\n      <td>€10.84</td>\n      <td>Acorn Books</td>\n      <td>5 of 5 Stars</td>\n    </tr>\n    <tr>\n      <th>8</th>\n      <td>The Hard Detective</td>\n      <td>Keating, H. R. F.</td>\n      <td>9780333766194</td>\n      <td>€11.29</td>\n      <td>Weysprings Books, IOBA, PBFA</td>\n      <td>5 of 5 Stars</td>\n    </tr>\n    <tr>\n      <th>9</th>\n      <td>Hard Truth</td>\n      <td>Barr, Nevada</td>\n      <td>9780399152412</td>\n      <td>€12.06</td>\n      <td>Books Again, Inc.</td>\n      <td>5 of 5 Stars</td>\n    </tr>\n    <tr>\n      <th>10</th>\n      <td>Hard Scrabble: Observations on a Patch of Land</td>\n      <td>Graves, John</td>\n      <td>9780394483863</td>\n      <td>€16.37</td>\n      <td>Downtown Brown Books, ABAA</td>\n      <td>5 of 5 Stars</td>\n    </tr>\n    <tr>\n      <th>11</th>\n      <td>CTHULHU IS HARD TO SPELL</td>\n      <td>Brandon Perlow, Paul J Mendoza,</td>\n      <td>1644675935</td>\n      <td>€10.06</td>\n      <td>Heisenbooks</td>\n      <td>5 of 5 Stars</td>\n    </tr>\n    <tr>\n      <th>12</th>\n      <td>The Confession -by Domenic Stansberry -a Signe...</td>\n      <td>Stansberry, Domenic / Hard Case Mystery / Crim...</td>\n      <td>9780843953541</td>\n      <td>€8.57</td>\n      <td>Leonard Shoup</td>\n      <td>5 of 5 Stars</td>\n    </tr>\n    <tr>\n      <th>13</th>\n      <td>Hard Loving</td>\n      <td>Piercy, Marge</td>\n      <td>Null</td>\n      <td>€12.92</td>\n      <td>S. Howlett-West Books (member of ABAA &amp; ILAB)</td>\n      <td>5 of 5 Stars</td>\n    </tr>\n    <tr>\n      <th>14</th>\n      <td>Hammond's Hard Lines</td>\n      <td>Cuppord, Skelton</td>\n      <td>Null</td>\n      <td>€11.35</td>\n      <td>Save The Last Book For Me</td>\n      <td>5 of 5 Stars</td>\n    </tr>\n    <tr>\n      <th>15</th>\n      <td>Hard Rain</td>\n      <td>van de Wetering, Janwillem</td>\n      <td>Null</td>\n      <td>€10.34</td>\n      <td>Tree Frog Fine Books and Graphic Arts</td>\n      <td>5 of 5 Stars</td>\n    </tr>\n    <tr>\n      <th>16</th>\n      <td>Cry Hard Cry Fast</td>\n      <td>John D. Macdonald</td>\n      <td>Null</td>\n      <td>€6.89</td>\n      <td>Harpo Speaks</td>\n      <td>5 of 5 Stars</td>\n    </tr>\n    <tr>\n      <th>17</th>\n      <td>The Dead Ride Hard</td>\n      <td>Vance, Louis Joseph</td>\n      <td>Null</td>\n      <td>€12.92</td>\n      <td>Yesterday's Muse, ABAA, ILAB, IOBA</td>\n      <td>5 of 5 Stars</td>\n    </tr>\n    <tr>\n      <th>18</th>\n      <td>Hard Hard City</td>\n      <td>Fusilli, Jim</td>\n      <td>9780399152177</td>\n      <td>€11.20</td>\n      <td>Garys Books</td>\n      <td>5 of 5 Stars</td>\n    </tr>\n    <tr>\n      <th>19</th>\n      <td>THE HARD WAY.</td>\n      <td>Child, Lee.</td>\n      <td>0440241030</td>\n      <td>€11.63</td>\n      <td>Bookfever.com, IOBA</td>\n      <td>5 of 5 Stars</td>\n    </tr>\n    <tr>\n      <th>20</th>\n      <td>Theodore Roosevelt; A Tribute By William Hard</td>\n      <td>Hard, William</td>\n      <td>Null</td>\n      <td>€10.77</td>\n      <td>Austin's Antiquarian Books</td>\n      <td>5 of 5 Stars</td>\n    </tr>\n    <tr>\n      <th>21</th>\n      <td>Theodore Roosevelt; A Tribute By William Hard</td>\n      <td>Hard, William</td>\n      <td>Null</td>\n      <td>€12.92</td>\n      <td>Austin's Antiquarian Books</td>\n      <td>5 of 5 Stars</td>\n    </tr>\n    <tr>\n      <th>22</th>\n      <td>Hard Rain</td>\n      <td>Eisler, Barry</td>\n      <td>Null</td>\n      <td>€12.92</td>\n      <td>Evening Star Books</td>\n      <td>5 of 5 Stars</td>\n    </tr>\n    <tr>\n      <th>23</th>\n      <td>THE HARD HATS</td>\n      <td>H . M . NEWELL</td>\n      <td>Null</td>\n      <td>€11.37</td>\n      <td>NOVELLA'S BOOKS</td>\n      <td>5 of 5 Stars</td>\n    </tr>\n    <tr>\n      <th>24</th>\n      <td>Hard Truth (signed by author)(1st printing)</td>\n      <td>Nevada Barr</td>\n      <td>9780399152412</td>\n      <td>€8.61</td>\n      <td>Ironwood Hills Books</td>\n      <td>5 of 5 Stars</td>\n    </tr>\n    <tr>\n      <th>25</th>\n      <td>Hard Times (Everyman's Library)</td>\n      <td>Dickens, Charles</td>\n      <td>9780460002929</td>\n      <td>€11.37</td>\n      <td>Once Upon A Time</td>\n      <td>5 of 5 Stars</td>\n    </tr>\n    <tr>\n      <th>26</th>\n      <td>Hard Times</td>\n      <td>Charles Dickens</td>\n      <td>Null</td>\n      <td>€12.48</td>\n      <td>AJ Scruffles</td>\n      <td>4 of 5 Stars</td>\n    </tr>\n    <tr>\n      <th>27</th>\n      <td>The Hard Detective</td>\n      <td>Keating, H. R. F.</td>\n      <td>9780333766194</td>\n      <td>€11.29</td>\n      <td>Weysprings Books, IOBA, PBFA</td>\n      <td>5 of 5 Stars</td>\n    </tr>\n    <tr>\n      <th>28</th>\n      <td>The Hard Men</td>\n      <td>Olsen, T.V.</td>\n      <td>Null</td>\n      <td>€10.84</td>\n      <td>Acorn Books</td>\n      <td>5 of 5 Stars</td>\n    </tr>\n    <tr>\n      <th>29</th>\n      <td>Hard Truth</td>\n      <td>Barr, Nevada</td>\n      <td>9780399152412</td>\n      <td>€12.06</td>\n      <td>Books Again, Inc.</td>\n      <td>5 of 5 Stars</td>\n    </tr>\n    <tr>\n      <th>30</th>\n      <td>Hard Scrabble: Observations on a Patch of Land</td>\n      <td>Graves, John</td>\n      <td>9780394483863</td>\n      <td>€16.37</td>\n      <td>Downtown Brown Books, ABAA</td>\n      <td>5 of 5 Stars</td>\n    </tr>\n    <tr>\n      <th>31</th>\n      <td>CTHULHU IS HARD TO SPELL</td>\n      <td>Brandon Perlow, Paul J Mendoza,</td>\n      <td>1644675935</td>\n      <td>€10.06</td>\n      <td>Heisenbooks</td>\n      <td>5 of 5 Stars</td>\n    </tr>\n    <tr>\n      <th>32</th>\n      <td>The Confession -by Domenic Stansberry -a Signe...</td>\n      <td>Stansberry, Domenic / Hard Case Mystery / Crim...</td>\n      <td>9780843953541</td>\n      <td>€8.57</td>\n      <td>Leonard Shoup</td>\n      <td>5 of 5 Stars</td>\n    </tr>\n    <tr>\n      <th>33</th>\n      <td>Hard Rain</td>\n      <td>van de Wetering, Janwillem</td>\n      <td>Null</td>\n      <td>€10.34</td>\n      <td>Tree Frog Fine Books and Graphic Arts</td>\n      <td>5 of 5 Stars</td>\n    </tr>\n    <tr>\n      <th>34</th>\n      <td>Hard Loving</td>\n      <td>Piercy, Marge</td>\n      <td>Null</td>\n      <td>€12.92</td>\n      <td>S. Howlett-West Books (member of ABAA &amp; ILAB)</td>\n      <td>5 of 5 Stars</td>\n    </tr>\n    <tr>\n      <th>35</th>\n      <td>Cry Hard Cry Fast</td>\n      <td>John D. Macdonald</td>\n      <td>Null</td>\n      <td>€6.89</td>\n      <td>Harpo Speaks</td>\n      <td>5 of 5 Stars</td>\n    </tr>\n    <tr>\n      <th>36</th>\n      <td>Hammond's Hard Lines</td>\n      <td>Cuppord, Skelton</td>\n      <td>Null</td>\n      <td>€11.35</td>\n      <td>Save The Last Book For Me</td>\n      <td>5 of 5 Stars</td>\n    </tr>\n    <tr>\n      <th>37</th>\n      <td>Hard Hard City</td>\n      <td>Fusilli, Jim</td>\n      <td>9780399152177</td>\n      <td>€11.20</td>\n      <td>Garys Books</td>\n      <td>5 of 5 Stars</td>\n    </tr>\n    <tr>\n      <th>38</th>\n      <td>The Dead Ride Hard</td>\n      <td>Vance, Louis Joseph</td>\n      <td>Null</td>\n      <td>€12.92</td>\n      <td>Yesterday's Muse, ABAA, ILAB, IOBA</td>\n      <td>5 of 5 Stars</td>\n    </tr>\n    <tr>\n      <th>39</th>\n      <td>THE HARD WAY.</td>\n      <td>Child, Lee.</td>\n      <td>0440241030</td>\n      <td>€11.63</td>\n      <td>Bookfever.com, IOBA</td>\n      <td>5 of 5 Stars</td>\n    </tr>\n    <tr>\n      <th>40</th>\n      <td>Theodore Roosevelt; A Tribute By William Hard</td>\n      <td>Hard, William</td>\n      <td>Null</td>\n      <td>€10.77</td>\n      <td>Austin's Antiquarian Books</td>\n      <td>5 of 5 Stars</td>\n    </tr>\n    <tr>\n      <th>41</th>\n      <td>Theodore Roosevelt; A Tribute By William Hard</td>\n      <td>Hard, William</td>\n      <td>Null</td>\n      <td>€12.92</td>\n      <td>Austin's Antiquarian Books</td>\n      <td>5 of 5 Stars</td>\n    </tr>\n    <tr>\n      <th>42</th>\n      <td>Hard Rain</td>\n      <td>Eisler, Barry</td>\n      <td>Null</td>\n      <td>€12.92</td>\n      <td>Evening Star Books</td>\n      <td>5 of 5 Stars</td>\n    </tr>\n    <tr>\n      <th>43</th>\n      <td>THE HARD HATS</td>\n      <td>H . M . NEWELL</td>\n      <td>Null</td>\n      <td>€11.37</td>\n      <td>NOVELLA'S BOOKS</td>\n      <td>5 of 5 Stars</td>\n    </tr>\n    <tr>\n      <th>44</th>\n      <td>Hard Truth (signed by author)(1st printing)</td>\n      <td>Nevada Barr</td>\n      <td>9780399152412</td>\n      <td>€8.61</td>\n      <td>Ironwood Hills Books</td>\n      <td>5 of 5 Stars</td>\n    </tr>\n    <tr>\n      <th>45</th>\n      <td>Hard Times (Everyman's Library)</td>\n      <td>Dickens, Charles</td>\n      <td>9780460002929</td>\n      <td>€11.37</td>\n      <td>Once Upon A Time</td>\n      <td>5 of 5 Stars</td>\n    </tr>\n    <tr>\n      <th>46</th>\n      <td>Hard Times</td>\n      <td>Charles Dickens</td>\n      <td>Null</td>\n      <td>€12.48</td>\n      <td>AJ Scruffles</td>\n      <td>4 of 5 Stars</td>\n    </tr>\n    <tr>\n      <th>47</th>\n      <td>The Hard Detective</td>\n      <td>Keating, H. R. F.</td>\n      <td>9780333766194</td>\n      <td>€11.29</td>\n      <td>Weysprings Books, IOBA, PBFA</td>\n      <td>5 of 5 Stars</td>\n    </tr>\n    <tr>\n      <th>48</th>\n      <td>The Hard Men</td>\n      <td>Olsen, T.V.</td>\n      <td>Null</td>\n      <td>€10.84</td>\n      <td>Acorn Books</td>\n      <td>5 of 5 Stars</td>\n    </tr>\n    <tr>\n      <th>49</th>\n      <td>Hard Truth</td>\n      <td>Barr, Nevada</td>\n      <td>9780399152412</td>\n      <td>€12.06</td>\n      <td>Books Again, Inc.</td>\n      <td>5 of 5 Stars</td>\n    </tr>\n    <tr>\n      <th>50</th>\n      <td>Hard Scrabble: Observations on a Patch of Land</td>\n      <td>Graves, John</td>\n      <td>9780394483863</td>\n      <td>€16.37</td>\n      <td>Downtown Brown Books, ABAA</td>\n      <td>5 of 5 Stars</td>\n    </tr>\n    <tr>\n      <th>51</th>\n      <td>CTHULHU IS HARD TO SPELL</td>\n      <td>Brandon Perlow, Paul J Mendoza,</td>\n      <td>1644675935</td>\n      <td>€10.06</td>\n      <td>Heisenbooks</td>\n      <td>5 of 5 Stars</td>\n    </tr>\n    <tr>\n      <th>52</th>\n      <td>The Confession -by Domenic Stansberry -a Signe...</td>\n      <td>Stansberry, Domenic / Hard Case Mystery / Crim...</td>\n      <td>9780843953541</td>\n      <td>€8.57</td>\n      <td>Leonard Shoup</td>\n      <td>5 of 5 Stars</td>\n    </tr>\n    <tr>\n      <th>53</th>\n      <td>Hard Rain</td>\n      <td>van de Wetering, Janwillem</td>\n      <td>Null</td>\n      <td>€10.34</td>\n      <td>Tree Frog Fine Books and Graphic Arts</td>\n      <td>5 of 5 Stars</td>\n    </tr>\n    <tr>\n      <th>54</th>\n      <td>Cry Hard Cry Fast</td>\n      <td>John D. Macdonald</td>\n      <td>Null</td>\n      <td>€6.89</td>\n      <td>Harpo Speaks</td>\n      <td>5 of 5 Stars</td>\n    </tr>\n    <tr>\n      <th>55</th>\n      <td>Hard Loving</td>\n      <td>Piercy, Marge</td>\n      <td>Null</td>\n      <td>€12.92</td>\n      <td>S. Howlett-West Books (member of ABAA &amp; ILAB)</td>\n      <td>5 of 5 Stars</td>\n    </tr>\n    <tr>\n      <th>56</th>\n      <td>Hammond's Hard Lines</td>\n      <td>Cuppord, Skelton</td>\n      <td>Null</td>\n      <td>€11.35</td>\n      <td>Save The Last Book For Me</td>\n      <td>5 of 5 Stars</td>\n    </tr>\n    <tr>\n      <th>57</th>\n      <td>Hard Hard City</td>\n      <td>Fusilli, Jim</td>\n      <td>9780399152177</td>\n      <td>€11.20</td>\n      <td>Garys Books</td>\n      <td>5 of 5 Stars</td>\n    </tr>\n    <tr>\n      <th>58</th>\n      <td>The Dead Ride Hard</td>\n      <td>Vance, Louis Joseph</td>\n      <td>Null</td>\n      <td>€12.92</td>\n      <td>Yesterday's Muse, ABAA, ILAB, IOBA</td>\n      <td>5 of 5 Stars</td>\n    </tr>\n    <tr>\n      <th>59</th>\n      <td>THE HARD WAY.</td>\n      <td>Child, Lee.</td>\n      <td>0440241030</td>\n      <td>€11.63</td>\n      <td>Bookfever.com, IOBA</td>\n      <td>5 of 5 Stars</td>\n    </tr>\n  </tbody>\n</table>\n</div>"
     },
     "metadata": {},
     "execution_count": 30
    }
   ],
   "source": [
    "df = pd.read_csv(\"Biblio.com_BOOKS.csv\")\n",
    "df.shape\n",
    "(100, 5)\n",
    "df.head(100)\n"
   ]
  },
  {
   "cell_type": "code",
   "execution_count": null,
   "metadata": {},
   "outputs": [],
   "source": []
  }
 ],
 "metadata": {
  "language_info": {
   "codemirror_mode": {
    "name": "ipython",
    "version": 3
   },
   "file_extension": ".py",
   "mimetype": "text/x-python",
   "name": "python",
   "nbconvert_exporter": "python",
   "pygments_lexer": "ipython3",
   "version": "3.8.5-final"
  },
  "orig_nbformat": 2,
  "kernelspec": {
   "name": "python_defaultSpec_1597789960181",
   "display_name": "Python 3.8.2 32-bit"
  }
 },
 "nbformat": 4,
 "nbformat_minor": 2
}